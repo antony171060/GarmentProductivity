{
  "nbformat": 4,
  "nbformat_minor": 0,
  "metadata": {
    "colab": {
      "name": "Separar_Datos_de_Prueba.ipynb",
      "provenance": [],
      "collapsed_sections": []
    },
    "kernelspec": {
      "name": "python3",
      "display_name": "Python 3"
    },
    "language_info": {
      "name": "python"
    }
  },
  "cells": [
    {
      "cell_type": "code",
      "metadata": {
        "id": "CHxEK2X87yIo"
      },
      "source": [
        "# Librería para manipulación y Análisis de Datos\n",
        "import pandas as pd"
      ],
      "execution_count": 1,
      "outputs": []
    },
    {
      "cell_type": "code",
      "metadata": {
        "colab": {
          "base_uri": "https://localhost:8080/"
        },
        "id": "4d8MgINO7y6G",
        "outputId": "8237a9a2-89c6-47b7-a11d-846908da4002"
      },
      "source": [
        "# Descargar archivo preprocesado (datos numéricos)\n",
        "!wget http://108.62.123.70/GarmentProd/new_number_garments_worker_productivity.csv"
      ],
      "execution_count": 2,
      "outputs": [
        {
          "output_type": "stream",
          "text": [
            "--2021-06-28 06:06:48--  http://108.62.123.70/GarmentProd/new_number_garments_worker_productivity.csv\n",
            "Connecting to 108.62.123.70:80... connected.\n",
            "HTTP request sent, awaiting response... 200 OK\n",
            "Length: 73094 (71K) [text/csv]\n",
            "Saving to: ‘new_number_garments_worker_productivity.csv.2’\n",
            "\n",
            "new_number_garments 100%[===================>]  71.38K   200KB/s    in 0.4s    \n",
            "\n",
            "2021-06-28 06:06:49 (200 KB/s) - ‘new_number_garments_worker_productivity.csv.2’ saved [73094/73094]\n",
            "\n"
          ],
          "name": "stdout"
        }
      ]
    },
    {
      "cell_type": "code",
      "metadata": {
        "colab": {
          "base_uri": "https://localhost:8080/"
        },
        "id": "uS4waDhp724H",
        "outputId": "1fc5b0c4-99a5-41f8-8b09-bc483639f52d"
      },
      "source": [
        "%ls"
      ],
      "execution_count": 3,
      "outputs": [
        {
          "output_type": "stream",
          "text": [
            "new_number_garments_worker_productivity.csv\n",
            "new_number_garments_worker_productivity.csv.1\n",
            "new_number_garments_worker_productivity.csv.2\n",
            "\u001b[0m\u001b[01;34msample_data\u001b[0m/\n"
          ],
          "name": "stdout"
        }
      ]
    },
    {
      "cell_type": "code",
      "metadata": {
        "id": "KRaIhXLs75YN"
      },
      "source": [
        "#Lectura del grupo de datos CSV\n",
        "file_name = \"new_number_garments_worker_productivity.csv\"\n",
        "\n",
        "#El método \"read_csv\" nos permite leer un CSV\n",
        "dataset = pd.read_csv(file_name)"
      ],
      "execution_count": 4,
      "outputs": []
    },
    {
      "cell_type": "code",
      "metadata": {
        "colab": {
          "base_uri": "https://localhost:8080/"
        },
        "id": "xckUVgj177TG",
        "outputId": "96e72f6e-7071-4641-b328-5bb44c6dd974"
      },
      "source": [
        "# Mostrar y verificar datos descargados\n",
        "print(dataset.head())"
      ],
      "execution_count": 5,
      "outputs": [
        {
          "output_type": "stream",
          "text": [
            "   date  quarter  ...  no_of_workers  actual_productivity\n",
            "0    56        1  ...           59.0             0.940725\n",
            "1    56        1  ...            8.0             0.886500\n",
            "2    56        1  ...           30.5             0.800570\n",
            "3    56        1  ...           30.5             0.800570\n",
            "4    56        1  ...           56.0             0.800382\n",
            "\n",
            "[5 rows x 15 columns]\n"
          ],
          "name": "stdout"
        }
      ]
    },
    {
      "cell_type": "code",
      "metadata": {
        "colab": {
          "base_uri": "https://localhost:8080/"
        },
        "id": "4BjpuwzkN4ML",
        "outputId": "d16a44e9-992d-4d8a-c405-26f5de8e5d8f"
      },
      "source": [
        "# Mostrar número de filas (registros) y columnas (características)\n",
        "print(dataset.shape)"
      ],
      "execution_count": 6,
      "outputs": [
        {
          "output_type": "stream",
          "text": [
            "(1197, 15)\n"
          ],
          "name": "stdout"
        }
      ]
    },
    {
      "cell_type": "code",
      "metadata": {
        "colab": {
          "base_uri": "https://localhost:8080/"
        },
        "id": "LBRIQSoB78r5",
        "outputId": "133a6c38-0482-4df7-a57c-8703fc869e8d"
      },
      "source": [
        "# Mostrar información actual de datos\n",
        "print(dataset.info())"
      ],
      "execution_count": 7,
      "outputs": [
        {
          "output_type": "stream",
          "text": [
            "<class 'pandas.core.frame.DataFrame'>\n",
            "RangeIndex: 1197 entries, 0 to 1196\n",
            "Data columns (total 15 columns):\n",
            " #   Column                 Non-Null Count  Dtype  \n",
            "---  ------                 --------------  -----  \n",
            " 0   date                   1197 non-null   int64  \n",
            " 1   quarter                1197 non-null   int64  \n",
            " 2   department             1197 non-null   int64  \n",
            " 3   day                    1197 non-null   int64  \n",
            " 4   team                   1197 non-null   int64  \n",
            " 5   targeted_productivity  1197 non-null   float64\n",
            " 6   smv                    1197 non-null   float64\n",
            " 7   wip                    1197 non-null   float64\n",
            " 8   over_time              1197 non-null   int64  \n",
            " 9   incentive              1197 non-null   int64  \n",
            " 10  idle_time              1197 non-null   float64\n",
            " 11  idle_men               1197 non-null   int64  \n",
            " 12  no_of_style_change     1197 non-null   int64  \n",
            " 13  no_of_workers          1197 non-null   float64\n",
            " 14  actual_productivity    1197 non-null   float64\n",
            "dtypes: float64(6), int64(9)\n",
            "memory usage: 140.4 KB\n",
            "None\n"
          ],
          "name": "stdout"
        }
      ]
    },
    {
      "cell_type": "code",
      "metadata": {
        "colab": {
          "base_uri": "https://localhost:8080/"
        },
        "id": "9ow_4mlL7-I2",
        "outputId": "e56eed99-69e3-4bcb-dd98-0e4f2bfdd028"
      },
      "source": [
        "# Mostrar datos estadísticos\n",
        "print(dataset.describe())"
      ],
      "execution_count": 8,
      "outputs": [
        {
          "output_type": "stream",
          "text": [
            "              date      quarter  ...  no_of_workers  actual_productivity\n",
            "count  1197.000000  1197.000000  ...    1197.000000          1197.000000\n",
            "mean     28.917293     2.020050  ...      34.609858             0.735091\n",
            "std      17.098789     1.557568  ...      22.197687             0.174488\n",
            "min       0.000000     0.000000  ...       2.000000             0.233705\n",
            "25%      14.000000     1.000000  ...       9.000000             0.650307\n",
            "50%      29.000000     1.000000  ...      34.000000             0.773333\n",
            "75%      44.000000     4.000000  ...      57.000000             0.850253\n",
            "max      58.000000     4.000000  ...      89.000000             1.120437\n",
            "\n",
            "[8 rows x 15 columns]\n"
          ],
          "name": "stdout"
        }
      ]
    },
    {
      "cell_type": "code",
      "metadata": {
        "id": "fz33TDgz0XX0"
      },
      "source": [
        "# Cargar librería de datos para dividir datos\n",
        "from sklearn.model_selection import train_test_split"
      ],
      "execution_count": 9,
      "outputs": []
    },
    {
      "cell_type": "code",
      "metadata": {
        "id": "Gw6AVzweNVQT"
      },
      "source": [
        "# Dividir los registros en un 15% para pruebas\n",
        "dataset_train, dataset_test = train_test_split(dataset, test_size=0.15, random_state=123)"
      ],
      "execution_count": 10,
      "outputs": []
    },
    {
      "cell_type": "code",
      "metadata": {
        "colab": {
          "base_uri": "https://localhost:8080/"
        },
        "id": "KffjK8BKNnXD",
        "outputId": "90c15981-e11c-43b4-ae6d-8470c8c5b6b1"
      },
      "source": [
        "# Mostrar información de datos de entrenamiento\n",
        "print(dataset_train.head())\n",
        "print(dataset_train.shape)\n",
        "print(dataset_train.info())\n",
        "print(dataset_train.describe())"
      ],
      "execution_count": 11,
      "outputs": [
        {
          "output_type": "stream",
          "text": [
            "      date  quarter  ...  no_of_workers  actual_productivity\n",
            "880     30        0  ...           58.0             0.393549\n",
            "681     10        4  ...           57.0             0.800161\n",
            "221      7        4  ...           59.0             0.850502\n",
            "1128    52        4  ...            8.0             0.960625\n",
            "1114    27        4  ...           58.0             0.850071\n",
            "\n",
            "[5 rows x 15 columns]\n",
            "(1017, 15)\n",
            "<class 'pandas.core.frame.DataFrame'>\n",
            "Int64Index: 1017 entries, 880 to 1122\n",
            "Data columns (total 15 columns):\n",
            " #   Column                 Non-Null Count  Dtype  \n",
            "---  ------                 --------------  -----  \n",
            " 0   date                   1017 non-null   int64  \n",
            " 1   quarter                1017 non-null   int64  \n",
            " 2   department             1017 non-null   int64  \n",
            " 3   day                    1017 non-null   int64  \n",
            " 4   team                   1017 non-null   int64  \n",
            " 5   targeted_productivity  1017 non-null   float64\n",
            " 6   smv                    1017 non-null   float64\n",
            " 7   wip                    1017 non-null   float64\n",
            " 8   over_time              1017 non-null   int64  \n",
            " 9   incentive              1017 non-null   int64  \n",
            " 10  idle_time              1017 non-null   float64\n",
            " 11  idle_men               1017 non-null   int64  \n",
            " 12  no_of_style_change     1017 non-null   int64  \n",
            " 13  no_of_workers          1017 non-null   float64\n",
            " 14  actual_productivity    1017 non-null   float64\n",
            "dtypes: float64(6), int64(9)\n",
            "memory usage: 127.1 KB\n",
            "None\n",
            "              date      quarter  ...  no_of_workers  actual_productivity\n",
            "count  1017.000000  1017.000000  ...    1017.000000          1017.000000\n",
            "mean     29.086529     1.992134  ...      34.947394             0.732645\n",
            "std      17.119439     1.550951  ...      22.234134             0.174755\n",
            "min       0.000000     0.000000  ...       2.000000             0.233705\n",
            "25%      14.000000     1.000000  ...       9.000000             0.650224\n",
            "50%      29.000000     1.000000  ...      34.000000             0.758173\n",
            "75%      44.000000     4.000000  ...      57.000000             0.850137\n",
            "max      58.000000     4.000000  ...      89.000000             1.120437\n",
            "\n",
            "[8 rows x 15 columns]\n"
          ],
          "name": "stdout"
        }
      ]
    },
    {
      "cell_type": "code",
      "metadata": {
        "colab": {
          "base_uri": "https://localhost:8080/"
        },
        "id": "39gZ6qAYOYPM",
        "outputId": "de227da7-c777-44c2-9da3-f2439c3e0ea1"
      },
      "source": [
        "# Mostrar información de datos de prueba\n",
        "print(dataset_test.head())\n",
        "print(dataset_test.shape)\n",
        "print(dataset_test.info())\n",
        "print(dataset_test.describe())"
      ],
      "execution_count": 12,
      "outputs": [
        {
          "output_type": "stream",
          "text": [
            "     date  quarter  ...  no_of_workers  actual_productivity\n",
            "156    36        4  ...            8.0             0.817424\n",
            "529     0        2  ...            8.0             0.971867\n",
            "856     5        3  ...            8.0             0.684028\n",
            "895     2        0  ...           57.0             0.700614\n",
            "35     51        1  ...            8.0             0.701812\n",
            "\n",
            "[5 rows x 15 columns]\n",
            "(180, 15)\n",
            "<class 'pandas.core.frame.DataFrame'>\n",
            "Int64Index: 180 entries, 156 to 206\n",
            "Data columns (total 15 columns):\n",
            " #   Column                 Non-Null Count  Dtype  \n",
            "---  ------                 --------------  -----  \n",
            " 0   date                   180 non-null    int64  \n",
            " 1   quarter                180 non-null    int64  \n",
            " 2   department             180 non-null    int64  \n",
            " 3   day                    180 non-null    int64  \n",
            " 4   team                   180 non-null    int64  \n",
            " 5   targeted_productivity  180 non-null    float64\n",
            " 6   smv                    180 non-null    float64\n",
            " 7   wip                    180 non-null    float64\n",
            " 8   over_time              180 non-null    int64  \n",
            " 9   incentive              180 non-null    int64  \n",
            " 10  idle_time              180 non-null    float64\n",
            " 11  idle_men               180 non-null    int64  \n",
            " 12  no_of_style_change     180 non-null    int64  \n",
            " 13  no_of_workers          180 non-null    float64\n",
            " 14  actual_productivity    180 non-null    float64\n",
            "dtypes: float64(6), int64(9)\n",
            "memory usage: 22.5 KB\n",
            "None\n",
            "             date     quarter  ...  no_of_workers  actual_productivity\n",
            "count  180.000000  180.000000  ...     180.000000           180.000000\n",
            "mean    27.961111    2.177778  ...      32.702778             0.748912\n",
            "std     16.997326    1.589616  ...      21.954352             0.172803\n",
            "min      0.000000    0.000000  ...       8.000000             0.256500\n",
            "25%     12.750000    1.000000  ...       9.000000             0.666061\n",
            "50%     28.000000    2.000000  ...      31.750000             0.800077\n",
            "75%     42.000000    4.000000  ...      56.625000             0.864431\n",
            "max     58.000000    4.000000  ...      60.000000             1.000602\n",
            "\n",
            "[8 rows x 15 columns]\n"
          ],
          "name": "stdout"
        }
      ]
    },
    {
      "cell_type": "code",
      "metadata": {
        "id": "yxsAes66yg5-"
      },
      "source": [
        "# Convertir los marcos de datos (DataFrame) a archivos separados por comas (CSV)\n",
        "csvfile = pd.DataFrame(dataset_train)\n",
        "csvfile.to_csv('new_number_garments_worker_productivity_train.csv', index=False)\n",
        "csvfile = pd.DataFrame(dataset_test)\n",
        "csvfile.to_csv('new_number_garments_worker_productivity_test.csv', index=False)"
      ],
      "execution_count": 13,
      "outputs": []
    },
    {
      "cell_type": "code",
      "metadata": {
        "colab": {
          "base_uri": "https://localhost:8080/"
        },
        "id": "pmu6CsCRPIA6",
        "outputId": "0995aa68-28c8-4580-fd7d-af6a032345f9"
      },
      "source": [
        "%ls"
      ],
      "execution_count": 14,
      "outputs": [
        {
          "output_type": "stream",
          "text": [
            "new_number_garments_worker_productivity.csv\n",
            "new_number_garments_worker_productivity.csv.1\n",
            "new_number_garments_worker_productivity.csv.2\n",
            "new_number_garments_worker_productivity_test.csv\n",
            "new_number_garments_worker_productivity_train.csv\n",
            "\u001b[0m\u001b[01;34msample_data\u001b[0m/\n"
          ],
          "name": "stdout"
        }
      ]
    }
  ]
}
