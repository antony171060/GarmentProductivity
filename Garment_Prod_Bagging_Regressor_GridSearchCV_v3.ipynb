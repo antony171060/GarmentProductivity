{
  "nbformat": 4,
  "nbformat_minor": 0,
  "metadata": {
    "colab": {
      "name": "Garment_Prod_Bagging_Regressor_GridSearchCV-v3.ipynb",
      "provenance": [],
      "collapsed_sections": []
    },
    "kernelspec": {
      "name": "python3",
      "display_name": "Python 3"
    },
    "language_info": {
      "name": "python"
    }
  },
  "cells": [
    {
      "cell_type": "code",
      "metadata": {
        "id": "CHxEK2X87yIo"
      },
      "source": [
        "# Librería para manipulación y análisis de datos\n",
        "import pandas as pd"
      ],
      "execution_count": 1,
      "outputs": []
    },
    {
      "cell_type": "code",
      "metadata": {
        "colab": {
          "base_uri": "https://localhost:8080/"
        },
        "id": "4d8MgINO7y6G",
        "outputId": "ee449a19-9b78-4a2a-9b3b-195920714050"
      },
      "source": [
        "# Descargar archivo preprocesado\n",
        "!wget http://108.62.123.70/GarmentProd/new_number_garments_worker_productivity.csv"
      ],
      "execution_count": 2,
      "outputs": [
        {
          "output_type": "stream",
          "text": [
            "--2021-07-04 22:55:02--  http://108.62.123.70/GarmentProd/new_number_garments_worker_productivity.csv\n",
            "Connecting to 108.62.123.70:80... connected.\n",
            "HTTP request sent, awaiting response... 200 OK\n",
            "Length: 73094 (71K) [text/csv]\n",
            "Saving to: ‘new_number_garments_worker_productivity.csv.3’\n",
            "\n",
            "new_number_garments 100%[===================>]  71.38K   203KB/s    in 0.4s    \n",
            "\n",
            "2021-07-04 22:55:02 (203 KB/s) - ‘new_number_garments_worker_productivity.csv.3’ saved [73094/73094]\n",
            "\n"
          ],
          "name": "stdout"
        }
      ]
    },
    {
      "cell_type": "code",
      "metadata": {
        "colab": {
          "base_uri": "https://localhost:8080/"
        },
        "id": "uS4waDhp724H",
        "outputId": "ba73bf66-de4d-4460-f7e8-547d8aceef7f"
      },
      "source": [
        "%ls"
      ],
      "execution_count": 3,
      "outputs": [
        {
          "output_type": "stream",
          "text": [
            "new_number_garments_worker_productivity.csv\n",
            "new_number_garments_worker_productivity.csv.1\n",
            "new_number_garments_worker_productivity.csv.2\n",
            "new_number_garments_worker_productivity.csv.3\n",
            "\u001b[0m\u001b[01;34msample_data\u001b[0m/\n",
            "\u001b[01;34mscikit-learn\u001b[0m/\n"
          ],
          "name": "stdout"
        }
      ]
    },
    {
      "cell_type": "code",
      "metadata": {
        "id": "KRaIhXLs75YN"
      },
      "source": [
        "#Lectura del grupo de datos CSV\n",
        "file_name = \"new_number_garments_worker_productivity.csv\"\n",
        "\n",
        "#El método \"read_csv\" nos permite leer un CSV\n",
        "dataset = pd.read_csv(file_name)"
      ],
      "execution_count": 4,
      "outputs": []
    },
    {
      "cell_type": "code",
      "metadata": {
        "colab": {
          "base_uri": "https://localhost:8080/"
        },
        "id": "xckUVgj177TG",
        "outputId": "46d18dff-81d2-462f-93cc-0176f657772a"
      },
      "source": [
        "print(dataset.head())"
      ],
      "execution_count": 5,
      "outputs": [
        {
          "output_type": "stream",
          "text": [
            "   date  quarter  ...  no_of_workers  actual_productivity\n",
            "0    56        1  ...           59.0             0.940725\n",
            "1    56        1  ...            8.0             0.886500\n",
            "2    56        1  ...           30.5             0.800570\n",
            "3    56        1  ...           30.5             0.800570\n",
            "4    56        1  ...           56.0             0.800382\n",
            "\n",
            "[5 rows x 15 columns]\n"
          ],
          "name": "stdout"
        }
      ]
    },
    {
      "cell_type": "code",
      "metadata": {
        "colab": {
          "base_uri": "https://localhost:8080/"
        },
        "id": "eCDBhJPssSCN",
        "outputId": "1e4e31fc-e621-465b-8f4e-2abb2b4a3bfb"
      },
      "source": [
        "print(dataset.shape)"
      ],
      "execution_count": 6,
      "outputs": [
        {
          "output_type": "stream",
          "text": [
            "(1197, 15)\n"
          ],
          "name": "stdout"
        }
      ]
    },
    {
      "cell_type": "code",
      "metadata": {
        "colab": {
          "base_uri": "https://localhost:8080/"
        },
        "id": "LBRIQSoB78r5",
        "outputId": "7ebd0114-3b61-42d9-a1b0-282342464e3b"
      },
      "source": [
        "print(dataset.info())"
      ],
      "execution_count": 7,
      "outputs": [
        {
          "output_type": "stream",
          "text": [
            "<class 'pandas.core.frame.DataFrame'>\n",
            "RangeIndex: 1197 entries, 0 to 1196\n",
            "Data columns (total 15 columns):\n",
            " #   Column                 Non-Null Count  Dtype  \n",
            "---  ------                 --------------  -----  \n",
            " 0   date                   1197 non-null   int64  \n",
            " 1   quarter                1197 non-null   int64  \n",
            " 2   department             1197 non-null   int64  \n",
            " 3   day                    1197 non-null   int64  \n",
            " 4   team                   1197 non-null   int64  \n",
            " 5   targeted_productivity  1197 non-null   float64\n",
            " 6   smv                    1197 non-null   float64\n",
            " 7   wip                    1197 non-null   float64\n",
            " 8   over_time              1197 non-null   int64  \n",
            " 9   incentive              1197 non-null   int64  \n",
            " 10  idle_time              1197 non-null   float64\n",
            " 11  idle_men               1197 non-null   int64  \n",
            " 12  no_of_style_change     1197 non-null   int64  \n",
            " 13  no_of_workers          1197 non-null   float64\n",
            " 14  actual_productivity    1197 non-null   float64\n",
            "dtypes: float64(6), int64(9)\n",
            "memory usage: 140.4 KB\n",
            "None\n"
          ],
          "name": "stdout"
        }
      ]
    },
    {
      "cell_type": "code",
      "metadata": {
        "colab": {
          "base_uri": "https://localhost:8080/"
        },
        "id": "9ow_4mlL7-I2",
        "outputId": "8b2ba361-09fd-4e01-f934-a0fdac9dfdd2"
      },
      "source": [
        "print(dataset.describe())"
      ],
      "execution_count": 8,
      "outputs": [
        {
          "output_type": "stream",
          "text": [
            "              date      quarter  ...  no_of_workers  actual_productivity\n",
            "count  1197.000000  1197.000000  ...    1197.000000          1197.000000\n",
            "mean     28.917293     2.020050  ...      34.609858             0.735091\n",
            "std      17.098789     1.557568  ...      22.197687             0.174488\n",
            "min       0.000000     0.000000  ...       2.000000             0.233705\n",
            "25%      14.000000     1.000000  ...       9.000000             0.650307\n",
            "50%      29.000000     1.000000  ...      34.000000             0.773333\n",
            "75%      44.000000     4.000000  ...      57.000000             0.850253\n",
            "max      58.000000     4.000000  ...      89.000000             1.120437\n",
            "\n",
            "[8 rows x 15 columns]\n"
          ],
          "name": "stdout"
        }
      ]
    },
    {
      "cell_type": "markdown",
      "metadata": {
        "id": "96QyK0p40sYj"
      },
      "source": [
        "#Bagging regressor."
      ]
    },
    {
      "cell_type": "markdown",
      "metadata": {
        "id": "-FOG7UsQ0vKL"
      },
      "source": [
        "Un regresor de Bagging es un metaestimador de conjunto que ajusta los regresores base cada uno en subconjuntos aleatorios del conjunto de datos original y luego agrega sus predicciones individuales (ya sea por votación o promediando) para formar una predicción final. Un metaestimador de este tipo se puede utilizar típicamente como una forma de reducir la varianza de un estimador de caja negra (por ejemplo, un árbol de decisión), al introducir la aleatorización en su procedimiento de construcción y luego hacer un conjunto a partir de él.\n",
        "\n",
        "Fuente: Science Kit, scikit-learn, Machine Learning in Python\n",
        "\n",
        "https://scikit-learn.org/stable/modules/generated/sklearn.ensemble.BaggingRegressor.html\n",
        "\n",
        "Fuente: Scikit-Learn - Ensemble Learning : Bootstrap Aggregation(Bagging) & Random Forests\n",
        "https://coderzcolumn.com/tutorials/machine-learning/scikit-learn-sklearn-ensemble-learning-bagging-and-random-forests\n",
        "\n",
        "Fuente: Installing the development version of scikit-learn\n",
        "\n",
        "https://scikit-learn.org/dev/developers/advanced_installation.html"
      ]
    },
    {
      "cell_type": "code",
      "metadata": {
        "colab": {
          "base_uri": "https://localhost:8080/"
        },
        "id": "y7_-LZNhRNd1",
        "outputId": "1e1d9391-fb52-4ae7-bead-fd381d258e0d"
      },
      "source": [
        "#Instalación de nueva versión de Science Kit Learn v0.24, la actual es v0.23 - Para soportar mean_absolute_percentage_error de sklearn.metrics\n",
        "!git clone git://github.com/scikit-learn/scikit-learn.git  # add --depth 1 if your connection is slow\n",
        "%cd scikit-learn\n",
        "!pip install cython\n",
        "!pip install --verbose --no-build-isolation --editable .\n",
        "!python -c \"import sklearn; sklearn.show_versions()\""
      ],
      "execution_count": 9,
      "outputs": [
        {
          "output_type": "stream",
          "text": [
            "fatal: destination path 'scikit-learn' already exists and is not an empty directory.\n",
            "/content/scikit-learn\n",
            "Requirement already satisfied: cython in /usr/local/lib/python3.7/dist-packages (0.29.23)\n",
            "Created temporary directory: /tmp/pip-ephem-wheel-cache-seye7gfe\n",
            "Created temporary directory: /tmp/pip-req-tracker-qsjqzfyf\n",
            "Created requirements tracker '/tmp/pip-req-tracker-qsjqzfyf'\n",
            "Created temporary directory: /tmp/pip-install-xn2ohn5u\n",
            "Obtaining file:///content/scikit-learn\n",
            "  Added file:///content/scikit-learn to build tracker '/tmp/pip-req-tracker-qsjqzfyf'\n",
            "    Created temporary directory: /tmp/pip-modern-metadata-xelhy2i2\n",
            "    Running command /usr/bin/python3 /usr/local/lib/python3.7/dist-packages/pip/_vendor/pep517/_in_process.py prepare_metadata_for_build_wheel /tmp/tmpax_9i6f1\n",
            "    C compiler: x86_64-linux-gnu-gcc -pthread -Wno-unused-result -Wsign-compare -DNDEBUG -g -fwrapv -O2 -Wall -g -fdebug-prefix-map=/build/python3.7-OGiuun/python3.7-3.7.10=. -fstack-protector-strong -Wformat -Werror=format-security -g -fdebug-prefix-map=/build/python3.7-OGiuun/python3.7-3.7.10=. -fstack-protector-strong -Wformat -Werror=format-security -Wdate-time -D_FORTIFY_SOURCE=2 -fPIC\n",
            "\n",
            "    compile options: '-c'\n",
            "    x86_64-linux-gnu-gcc: test_program.c\n",
            "    x86_64-linux-gnu-gcc -pthread objects/test_program.o -o test_program\n",
            "    C compiler: x86_64-linux-gnu-gcc -pthread -Wno-unused-result -Wsign-compare -DNDEBUG -g -fwrapv -O2 -Wall -g -fdebug-prefix-map=/build/python3.7-OGiuun/python3.7-3.7.10=. -fstack-protector-strong -Wformat -Werror=format-security -g -fdebug-prefix-map=/build/python3.7-OGiuun/python3.7-3.7.10=. -fstack-protector-strong -Wformat -Werror=format-security -Wdate-time -D_FORTIFY_SOURCE=2 -fPIC\n",
            "\n",
            "    compile options: '-c'\n",
            "    extra options: '-fopenmp'\n",
            "    x86_64-linux-gnu-gcc: test_program.c\n",
            "    x86_64-linux-gnu-gcc -pthread objects/test_program.o -o test_program -fopenmp\n",
            "    running dist_info\n",
            "    running build_src\n",
            "    build_src\n",
            "    building library \"libsvm-skl\" sources\n",
            "    building library \"liblinear-skl\" sources\n",
            "    building extension \"sklearn.__check_build._check_build\" sources\n",
            "    building extension \"sklearn.preprocessing._csr_polynomial_expansion\" sources\n",
            "    building extension \"sklearn.cluster._dbscan_inner\" sources\n",
            "    building extension \"sklearn.cluster._hierarchical_fast\" sources\n",
            "    building extension \"sklearn.cluster._k_means_common\" sources\n",
            "    building extension \"sklearn.cluster._k_means_lloyd\" sources\n",
            "    building extension \"sklearn.cluster._k_means_elkan\" sources\n",
            "    building extension \"sklearn.cluster._k_means_minibatch\" sources\n",
            "    building extension \"sklearn.datasets._svmlight_format_fast\" sources\n",
            "    building extension \"sklearn.decomposition._online_lda_fast\" sources\n",
            "    building extension \"sklearn.decomposition._cdnmf_fast\" sources\n",
            "    building extension \"sklearn.ensemble._gradient_boosting\" sources\n",
            "    building extension \"sklearn.ensemble._hist_gradient_boosting._gradient_boosting\" sources\n",
            "    building extension \"sklearn.ensemble._hist_gradient_boosting.histogram\" sources\n",
            "    building extension \"sklearn.ensemble._hist_gradient_boosting.splitting\" sources\n",
            "    building extension \"sklearn.ensemble._hist_gradient_boosting._binning\" sources\n",
            "    building extension \"sklearn.ensemble._hist_gradient_boosting._predictor\" sources\n",
            "    building extension \"sklearn.ensemble._hist_gradient_boosting._loss\" sources\n",
            "    building extension \"sklearn.ensemble._hist_gradient_boosting._bitset\" sources\n",
            "    building extension \"sklearn.ensemble._hist_gradient_boosting.common\" sources\n",
            "    building extension \"sklearn.ensemble._hist_gradient_boosting.utils\" sources\n",
            "    building extension \"sklearn.feature_extraction._hashing_fast\" sources\n",
            "    building extension \"sklearn.manifold._utils\" sources\n",
            "    building extension \"sklearn.manifold._barnes_hut_tsne\" sources\n",
            "    building extension \"sklearn.metrics.cluster._expected_mutual_info_fast\" sources\n",
            "    building extension \"sklearn.metrics._pairwise_fast\" sources\n",
            "    building extension \"sklearn.neighbors._ball_tree\" sources\n",
            "    building extension \"sklearn.neighbors._kd_tree\" sources\n",
            "    building extension \"sklearn.neighbors._partition_nodes\" sources\n",
            "    building extension \"sklearn.neighbors._dist_metrics\" sources\n",
            "    building extension \"sklearn.neighbors._typedefs\" sources\n",
            "    building extension \"sklearn.neighbors._quad_tree\" sources\n",
            "    building extension \"sklearn.tree._tree\" sources\n",
            "    building extension \"sklearn.tree._splitter\" sources\n",
            "    building extension \"sklearn.tree._criterion\" sources\n",
            "    building extension \"sklearn.tree._utils\" sources\n",
            "    building extension \"sklearn.utils.sparsefuncs_fast\" sources\n",
            "    building extension \"sklearn.utils._cython_blas\" sources\n",
            "    building extension \"sklearn.utils.arrayfuncs\" sources\n",
            "    building extension \"sklearn.utils.murmurhash\" sources\n",
            "    building extension \"sklearn.utils.graph_shortest_path\" sources\n",
            "    building extension \"sklearn.utils._fast_dict\" sources\n",
            "    building extension \"sklearn.utils._openmp_helpers\" sources\n",
            "    building extension \"sklearn.utils._seq_dataset\" sources\n",
            "    building extension \"sklearn.utils._weight_vector\" sources\n",
            "    building extension \"sklearn.utils._random\" sources\n",
            "    building extension \"sklearn.utils._logistic_sigmoid\" sources\n",
            "    building extension \"sklearn.svm._newrand\" sources\n",
            "    building extension \"sklearn.svm._libsvm\" sources\n",
            "    building extension \"sklearn.svm._liblinear\" sources\n",
            "    building extension \"sklearn.svm._libsvm_sparse\" sources\n",
            "    building extension \"sklearn.linear_model._cd_fast\" sources\n",
            "    building extension \"sklearn.linear_model._sgd_fast\" sources\n",
            "    building extension \"sklearn.linear_model._sag_fast\" sources\n",
            "    building extension \"sklearn._isotonic\" sources\n",
            "    building data_files sources\n",
            "    build_src: building npy-pkg config files\n",
            "    creating /tmp/pip-modern-metadata-xelhy2i2/scikit_learn.egg-info\n",
            "    writing /tmp/pip-modern-metadata-xelhy2i2/scikit_learn.egg-info/PKG-INFO\n",
            "    writing dependency_links to /tmp/pip-modern-metadata-xelhy2i2/scikit_learn.egg-info/dependency_links.txt\n",
            "    writing requirements to /tmp/pip-modern-metadata-xelhy2i2/scikit_learn.egg-info/requires.txt\n",
            "    writing top-level names to /tmp/pip-modern-metadata-xelhy2i2/scikit_learn.egg-info/top_level.txt\n",
            "    writing manifest file '/tmp/pip-modern-metadata-xelhy2i2/scikit_learn.egg-info/SOURCES.txt'\n",
            "    reading manifest template 'MANIFEST.in'\n",
            "    warning: no previously-included files matching '*' found under directory 'benchmarks'\n",
            "    adding license file 'COPYING'\n",
            "    writing manifest file '/tmp/pip-modern-metadata-xelhy2i2/scikit_learn.egg-info/SOURCES.txt'\n",
            "    creating '/tmp/pip-modern-metadata-xelhy2i2/scikit_learn.dist-info'\n",
            "    adding license file \"COPYING\" (matched pattern \"COPYING*\")\n",
            "    Partial import of sklearn during the build process.\n",
            "    Preparing wheel metadata ... \u001b[?25l\u001b[?25hdone\n",
            "  Source in /content/scikit-learn has version 1.0.dev0, which satisfies requirement scikit-learn==1.0.dev0 from file:///content/scikit-learn\n",
            "  Removed scikit-learn==1.0.dev0 from file:///content/scikit-learn from build tracker '/tmp/pip-req-tracker-qsjqzfyf'\n",
            "Requirement already satisfied: scipy>=1.1.0 in /usr/local/lib/python3.7/dist-packages (from scikit-learn==1.0.dev0) (1.4.1)\n",
            "Requirement already satisfied: numpy>=1.14.6 in /usr/local/lib/python3.7/dist-packages (from scikit-learn==1.0.dev0) (1.19.5)\n",
            "Requirement already satisfied: threadpoolctl>=2.0.0 in /usr/local/lib/python3.7/dist-packages (from scikit-learn==1.0.dev0) (2.1.0)\n",
            "Requirement already satisfied: joblib>=0.11 in /usr/local/lib/python3.7/dist-packages (from scikit-learn==1.0.dev0) (1.0.1)\n",
            "Installing collected packages: scikit-learn\n",
            "  Found existing installation: scikit-learn 1.0.dev0\n",
            "    Not sure how to uninstall: scikit-learn 1.0.dev0 - Check: /content/scikit-learn\n",
            "    Can't uninstall 'scikit-learn'. No files were found to uninstall.\n",
            "  Running setup.py develop for scikit-learn\n",
            "    Running command /usr/bin/python3 -c 'import sys, setuptools, tokenize; sys.argv[0] = '\"'\"'/content/scikit-learn/setup.py'\"'\"'; __file__='\"'\"'/content/scikit-learn/setup.py'\"'\"';f=getattr(tokenize, '\"'\"'open'\"'\"', open)(__file__);code=f.read().replace('\"'\"'\\r\\n'\"'\"', '\"'\"'\\n'\"'\"');f.close();exec(compile(code, __file__, '\"'\"'exec'\"'\"'))' develop --no-deps\n",
            "    C compiler: x86_64-linux-gnu-gcc -pthread -Wno-unused-result -Wsign-compare -DNDEBUG -g -fwrapv -O2 -Wall -g -fdebug-prefix-map=/build/python3.7-OGiuun/python3.7-3.7.10=. -fstack-protector-strong -Wformat -Werror=format-security -g -fdebug-prefix-map=/build/python3.7-OGiuun/python3.7-3.7.10=. -fstack-protector-strong -Wformat -Werror=format-security -Wdate-time -D_FORTIFY_SOURCE=2 -fPIC\n",
            "\n",
            "    compile options: '-c'\n",
            "    x86_64-linux-gnu-gcc: test_program.c\n",
            "    x86_64-linux-gnu-gcc -pthread objects/test_program.o -o test_program\n",
            "    C compiler: x86_64-linux-gnu-gcc -pthread -Wno-unused-result -Wsign-compare -DNDEBUG -g -fwrapv -O2 -Wall -g -fdebug-prefix-map=/build/python3.7-OGiuun/python3.7-3.7.10=. -fstack-protector-strong -Wformat -Werror=format-security -g -fdebug-prefix-map=/build/python3.7-OGiuun/python3.7-3.7.10=. -fstack-protector-strong -Wformat -Werror=format-security -Wdate-time -D_FORTIFY_SOURCE=2 -fPIC\n",
            "\n",
            "    compile options: '-c'\n",
            "    extra options: '-fopenmp'\n",
            "    x86_64-linux-gnu-gcc: test_program.c\n",
            "    x86_64-linux-gnu-gcc -pthread objects/test_program.o -o test_program -fopenmp\n",
            "    running develop\n",
            "    running build_scripts\n",
            "    running egg_info\n",
            "    running build_src\n",
            "    build_src\n",
            "    building library \"libsvm-skl\" sources\n",
            "    building library \"liblinear-skl\" sources\n",
            "    building extension \"sklearn.__check_build._check_build\" sources\n",
            "    building extension \"sklearn.preprocessing._csr_polynomial_expansion\" sources\n",
            "    building extension \"sklearn.cluster._dbscan_inner\" sources\n",
            "    building extension \"sklearn.cluster._hierarchical_fast\" sources\n",
            "    building extension \"sklearn.cluster._k_means_common\" sources\n",
            "    building extension \"sklearn.cluster._k_means_lloyd\" sources\n",
            "    building extension \"sklearn.cluster._k_means_elkan\" sources\n",
            "    building extension \"sklearn.cluster._k_means_minibatch\" sources\n",
            "    building extension \"sklearn.datasets._svmlight_format_fast\" sources\n",
            "    building extension \"sklearn.decomposition._online_lda_fast\" sources\n",
            "    building extension \"sklearn.decomposition._cdnmf_fast\" sources\n",
            "    building extension \"sklearn.ensemble._gradient_boosting\" sources\n",
            "    building extension \"sklearn.ensemble._hist_gradient_boosting._gradient_boosting\" sources\n",
            "    building extension \"sklearn.ensemble._hist_gradient_boosting.histogram\" sources\n",
            "    building extension \"sklearn.ensemble._hist_gradient_boosting.splitting\" sources\n",
            "    building extension \"sklearn.ensemble._hist_gradient_boosting._binning\" sources\n",
            "    building extension \"sklearn.ensemble._hist_gradient_boosting._predictor\" sources\n",
            "    building extension \"sklearn.ensemble._hist_gradient_boosting._loss\" sources\n",
            "    building extension \"sklearn.ensemble._hist_gradient_boosting._bitset\" sources\n",
            "    building extension \"sklearn.ensemble._hist_gradient_boosting.common\" sources\n",
            "    building extension \"sklearn.ensemble._hist_gradient_boosting.utils\" sources\n",
            "    building extension \"sklearn.feature_extraction._hashing_fast\" sources\n",
            "    building extension \"sklearn.manifold._utils\" sources\n",
            "    building extension \"sklearn.manifold._barnes_hut_tsne\" sources\n",
            "    building extension \"sklearn.metrics.cluster._expected_mutual_info_fast\" sources\n",
            "    building extension \"sklearn.metrics._pairwise_fast\" sources\n",
            "    building extension \"sklearn.neighbors._ball_tree\" sources\n",
            "    building extension \"sklearn.neighbors._kd_tree\" sources\n",
            "    building extension \"sklearn.neighbors._partition_nodes\" sources\n",
            "    building extension \"sklearn.neighbors._dist_metrics\" sources\n",
            "    building extension \"sklearn.neighbors._typedefs\" sources\n",
            "    building extension \"sklearn.neighbors._quad_tree\" sources\n",
            "    building extension \"sklearn.tree._tree\" sources\n",
            "    building extension \"sklearn.tree._splitter\" sources\n",
            "    building extension \"sklearn.tree._criterion\" sources\n",
            "    building extension \"sklearn.tree._utils\" sources\n",
            "    building extension \"sklearn.utils.sparsefuncs_fast\" sources\n",
            "    building extension \"sklearn.utils._cython_blas\" sources\n",
            "    building extension \"sklearn.utils.arrayfuncs\" sources\n",
            "    building extension \"sklearn.utils.murmurhash\" sources\n",
            "    building extension \"sklearn.utils.graph_shortest_path\" sources\n",
            "    building extension \"sklearn.utils._fast_dict\" sources\n",
            "    building extension \"sklearn.utils._openmp_helpers\" sources\n",
            "    building extension \"sklearn.utils._seq_dataset\" sources\n",
            "    building extension \"sklearn.utils._weight_vector\" sources\n",
            "    building extension \"sklearn.utils._random\" sources\n",
            "    building extension \"sklearn.utils._logistic_sigmoid\" sources\n",
            "    building extension \"sklearn.svm._newrand\" sources\n",
            "    building extension \"sklearn.svm._libsvm\" sources\n",
            "    building extension \"sklearn.svm._liblinear\" sources\n",
            "    building extension \"sklearn.svm._libsvm_sparse\" sources\n",
            "    building extension \"sklearn.linear_model._cd_fast\" sources\n",
            "    building extension \"sklearn.linear_model._sgd_fast\" sources\n",
            "    building extension \"sklearn.linear_model._sag_fast\" sources\n",
            "    building extension \"sklearn._isotonic\" sources\n",
            "    building data_files sources\n",
            "    build_src: building npy-pkg config files\n",
            "    writing scikit_learn.egg-info/PKG-INFO\n",
            "    writing dependency_links to scikit_learn.egg-info/dependency_links.txt\n",
            "    writing requirements to scikit_learn.egg-info/requires.txt\n",
            "    writing top-level names to scikit_learn.egg-info/top_level.txt\n",
            "    reading manifest template 'MANIFEST.in'\n",
            "    warning: no previously-included files matching '*' found under directory 'benchmarks'\n",
            "    adding license file 'COPYING'\n",
            "    writing manifest file 'scikit_learn.egg-info/SOURCES.txt'\n",
            "    running build_ext\n",
            "    customize UnixCCompiler\n",
            "    customize UnixCCompiler using build_clib\n",
            "    customize UnixCCompiler\n",
            "    customize UnixCCompiler using build_ext_subclass\n",
            "    customize UnixCCompiler\n",
            "    customize UnixCCompiler using build_ext_subclass\n",
            "    Creating /usr/local/lib/python3.7/dist-packages/scikit-learn.egg-link (link to .)\n",
            "    scikit-learn 1.0.dev0 is already the active version in easy-install.pth\n",
            "\n",
            "    Installed /content/scikit-learn\n",
            "    Partial import of sklearn during the build process.\n",
            "Successfully installed scikit-learn\n",
            "Cleaning up...\n",
            "Removed build tracker '/tmp/pip-req-tracker-qsjqzfyf'\n",
            "\n",
            "System:\n",
            "    python: 3.7.10 (default, May  3 2021, 02:48:31)  [GCC 7.5.0]\n",
            "executable: /usr/bin/python3\n",
            "   machine: Linux-5.4.104+-x86_64-with-Ubuntu-18.04-bionic\n",
            "\n",
            "Python dependencies:\n",
            "          pip: 19.3.1\n",
            "   setuptools: 57.0.0\n",
            "      sklearn: 1.0.dev0\n",
            "        numpy: 1.19.5\n",
            "        scipy: 1.4.1\n",
            "       Cython: 0.29.23\n",
            "       pandas: 1.1.5\n",
            "   matplotlib: 3.2.2\n",
            "       joblib: 1.0.1\n",
            "threadpoolctl: 2.1.0\n",
            "\n",
            "Built with OpenMP: True\n"
          ],
          "name": "stdout"
        }
      ]
    },
    {
      "cell_type": "code",
      "metadata": {
        "id": "fz33TDgz0XX0"
      },
      "source": [
        "# Cargar librerías como ensemble que contiene Bagging Regressor y Grid Search CV,\n",
        "# también se carga las regresiones para formas parte de Bagging: KNeighborsRegressor, LinearRegression y LogisticRegression, y otras herramientas\n",
        "import matplotlib.pyplot as plt\n",
        "import numpy as np\n",
        "from sklearn.svm import SVR\n",
        "from sklearn.ensemble import BaggingRegressor\n",
        "from sklearn.metrics import mean_squared_error, mean_absolute_error, mean_absolute_percentage_error\n",
        "#from sklearn.metrics import mean_squared_error, mean_absolute_error\n",
        "from sklearn.model_selection import train_test_split\n",
        "from sklearn.model_selection import GridSearchCV\n",
        "from sklearn.neighbors import KNeighborsRegressor\n",
        "from sklearn.linear_model import LinearRegression, LogisticRegression"
      ],
      "execution_count": 10,
      "outputs": []
    },
    {
      "cell_type": "code",
      "metadata": {
        "id": "2ZsZFPkO026C"
      },
      "source": [
        "# Dividir variables dependientes de la variable dependiente\n",
        "X, y = dataset.iloc[:,:-1],dataset.iloc[:,-1]"
      ],
      "execution_count": 11,
      "outputs": []
    },
    {
      "cell_type": "code",
      "metadata": {
        "colab": {
          "base_uri": "https://localhost:8080/"
        },
        "id": "OoZKD6PS1VKZ",
        "outputId": "190f4f97-b428-4ef3-84ce-eb536571cb2d"
      },
      "source": [
        "# Verificar división\n",
        "print(X)\n",
        "print(X.shape)\n",
        "print(y)\n",
        "print(y.shape)"
      ],
      "execution_count": 12,
      "outputs": [
        {
          "output_type": "stream",
          "text": [
            "      date  quarter  department  ...  idle_men  no_of_style_change  no_of_workers\n",
            "0       56        1           0  ...         0                   0           59.0\n",
            "1       56        1           2  ...         0                   0            8.0\n",
            "2       56        1           0  ...         0                   0           30.5\n",
            "3       56        1           0  ...         0                   0           30.5\n",
            "4       56        1           0  ...         0                   0           56.0\n",
            "...    ...      ...         ...  ...       ...                 ...            ...\n",
            "1192     3        4           1  ...         0                   0            8.0\n",
            "1193     3        4           1  ...         0                   0            8.0\n",
            "1194     3        4           1  ...         0                   0            8.0\n",
            "1195     3        4           1  ...         0                   0           15.0\n",
            "1196     3        4           1  ...         0                   0            6.0\n",
            "\n",
            "[1197 rows x 14 columns]\n",
            "(1197, 14)\n",
            "0       0.940725\n",
            "1       0.886500\n",
            "2       0.800570\n",
            "3       0.800570\n",
            "4       0.800382\n",
            "          ...   \n",
            "1192    0.628333\n",
            "1193    0.625625\n",
            "1194    0.625625\n",
            "1195    0.505889\n",
            "1196    0.394722\n",
            "Name: actual_productivity, Length: 1197, dtype: float64\n",
            "(1197,)\n"
          ],
          "name": "stdout"
        }
      ]
    },
    {
      "cell_type": "markdown",
      "metadata": {
        "id": "SB5aWKR904tS"
      },
      "source": [
        "Dividiremos nuestro conjunto de datos para usar el 15% para el entrenamiento y dejar el resto para la prueba. "
      ]
    },
    {
      "cell_type": "code",
      "metadata": {
        "id": "Ta1jegQS07Oa"
      },
      "source": [
        "X_train, X_test, y_train, y_test = train_test_split(X, y, test_size=0.10025, random_state=123)"
      ],
      "execution_count": 13,
      "outputs": []
    },
    {
      "cell_type": "code",
      "metadata": {
        "colab": {
          "base_uri": "https://localhost:8080/"
        },
        "id": "h_im3oXurura",
        "outputId": "3789c183-9f6c-478b-ca8c-1f9fdc7140a2"
      },
      "source": [
        "#Verificar el número de muestras de prueba\n",
        "print(X_test.shape)\n",
        "print(y_test.shape)"
      ],
      "execution_count": 14,
      "outputs": [
        {
          "output_type": "stream",
          "text": [
            "(120, 14)\n",
            "(120,)\n"
          ],
          "name": "stdout"
        }
      ]
    },
    {
      "cell_type": "code",
      "metadata": {
        "id": "SYEwzjj7Dvt1"
      },
      "source": [
        "# Se establecen los parámetros como el estimador y el número de estimadores\n",
        "# base_estimator: objeto, predeterminado = None\n",
        "# El estimador base para ajustarse a subconjuntos aleatorios del conjunto de datos.\n",
        "# Si es None, entonces el estimador base es un DecisionTreeRegressor.\n",
        "\n",
        "#params = {'base_estimator': SVR(),'n_estimators': 100,'random_state': 123}\n",
        "params = {'base_estimator': None ,'n_estimators': 100,'random_state': 123}"
      ],
      "execution_count": 15,
      "outputs": []
    },
    {
      "cell_type": "code",
      "metadata": {
        "id": "BvywPnlyAGhH"
      },
      "source": [
        "#Se aplican los parámetros a Bagging Regressor\n",
        "bagg_reg = BaggingRegressor(**params)\n"
      ],
      "execution_count": 16,
      "outputs": []
    },
    {
      "cell_type": "code",
      "metadata": {
        "colab": {
          "base_uri": "https://localhost:8080/"
        },
        "id": "QM8L_v6HCNT4",
        "outputId": "1b965c0c-e719-47d8-d1d7-347a0e5ccb9f"
      },
      "source": [
        "# Se hace el ajuste con datos de entrenamiento\n",
        "bagg_reg.fit(X_train,y_train)"
      ],
      "execution_count": 17,
      "outputs": [
        {
          "output_type": "execute_result",
          "data": {
            "text/plain": [
              "BaggingRegressor(n_estimators=100, random_state=123)"
            ]
          },
          "metadata": {
            "tags": []
          },
          "execution_count": 17
        }
      ]
    },
    {
      "cell_type": "code",
      "metadata": {
        "colab": {
          "base_uri": "https://localhost:8080/"
        },
        "id": "dbDnIU16E4_l",
        "outputId": "f1ed6849-0376-4542-f33f-26556fa1c22d"
      },
      "source": [
        "# Se hace una predicción con valores de validación\n",
        "bagg_predict = bagg_reg.predict(X_test)\n",
        "print(bagg_predict)\n",
        "print(bagg_predict.shape)\n",
        "print(y_test)\n",
        "print(y_test.shape)"
      ],
      "execution_count": 18,
      "outputs": [
        {
          "output_type": "stream",
          "text": [
            "[0.68398716 0.87032706 0.68694504 0.68569159 0.76585972 0.6164759\n",
            " 0.9038792  0.44984357 0.49342802 0.72701702 0.92857681 0.76460293\n",
            " 0.89977422 0.71824755 0.79411861 0.69530723 0.85979071 0.88895354\n",
            " 0.66609283 0.66256593 0.60765105 0.63331603 0.83826085 0.74415763\n",
            " 0.85947165 0.8501486  0.75096181 0.87016243 0.56703985 0.61352766\n",
            " 0.78139502 0.86308761 0.7963112  0.58597406 0.65348069 0.79253369\n",
            " 0.62099259 0.74959754 0.7416316  0.62227463 0.54454645 0.79845189\n",
            " 0.89959256 0.765272   0.67960057 0.62414131 0.81323704 0.89842309\n",
            " 0.52575578 0.78380814 0.4865661  0.74052612 0.79786042 0.73227405\n",
            " 0.79532971 0.60794482 0.98616638 0.85965159 0.69942449 0.87772258\n",
            " 0.83816738 0.86827208 0.44629258 0.5739721  0.79949335 0.66361431\n",
            " 0.80538842 0.80223666 0.8089474  0.6827945  0.68901775 0.65077777\n",
            " 0.51361907 0.78401226 0.84703822 0.82042337 0.80179174 0.95769738\n",
            " 0.80039512 0.80684366 0.76697458 0.66649365 0.88674741 0.78946058\n",
            " 0.69463609 0.86480684 0.37672084 0.78415376 0.69663607 0.8849031\n",
            " 0.82237159 0.79432766 0.86807052 0.55858202 0.80120831 0.67513307\n",
            " 0.91300772 0.69977936 0.80880688 0.43169502 0.73501454 0.47136807\n",
            " 0.88793485 0.95156881 0.85613056 0.68449963 0.74970944 0.76523813\n",
            " 0.43068883 0.98796743 0.73294648 0.82983086 0.70489414 0.84624996\n",
            " 0.5542655  0.77871978 0.75261268 0.84864662 0.80089424 0.72966171]\n",
            "(120,)\n",
            "156     0.817424\n",
            "529     0.971867\n",
            "856     0.684028\n",
            "895     0.700614\n",
            "35      0.701812\n",
            "          ...   \n",
            "906     0.800137\n",
            "1017    0.750396\n",
            "154     0.850137\n",
            "680     0.800402\n",
            "842     0.256500\n",
            "Name: actual_productivity, Length: 120, dtype: float64\n",
            "(120,)\n"
          ],
          "name": "stdout"
        }
      ]
    },
    {
      "cell_type": "markdown",
      "metadata": {
        "id": "QX65iIYH09ZJ"
      },
      "source": [
        "Veamos también el error cuadrático medio en los datos de validación, la raíz del error cuadrático medio en los datos de validación y el puntaje (score) de entrenamiento y validación.\n",
        "\n",
        "Fuente: Science Kit, Metrics and scoring: quantifying the quality of predictions\n",
        "\n",
        "https://scikit-learn.org/stable/modules/model_evaluation.html\n",
        "\n",
        "Fuente: Data Quest - Understanding Regression Error Metrics in Python \n",
        "\n",
        "https://www.dataquest.io/blog/understanding-regression-error-metrics/"
      ]
    },
    {
      "cell_type": "code",
      "metadata": {
        "colab": {
          "base_uri": "https://localhost:8080/"
        },
        "id": "pODgbSi7CyL1",
        "outputId": "38ba7b20-bf48-4221-9311-c0451c76faf2"
      },
      "source": [
        "mse = mean_squared_error(y_test, bagg_predict)\n",
        "print(\"The mean squared error (MSE) on test set: {:.4f}\".format(mse))"
      ],
      "execution_count": 19,
      "outputs": [
        {
          "output_type": "stream",
          "text": [
            "The mean squared error (MSE) on test set: 0.0192\n"
          ],
          "name": "stdout"
        }
      ]
    },
    {
      "cell_type": "code",
      "metadata": {
        "colab": {
          "base_uri": "https://localhost:8080/"
        },
        "id": "ymTWgjUOC5so",
        "outputId": "4087f730-2a49-4d54-fdf2-f7477f92b5a4"
      },
      "source": [
        "rmse = np.sqrt(mean_squared_error(y_test, bagg_predict))\n",
        "print(\"RMSE: %f\" % (rmse))"
      ],
      "execution_count": 20,
      "outputs": [
        {
          "output_type": "stream",
          "text": [
            "RMSE: 0.138660\n"
          ],
          "name": "stdout"
        }
      ]
    },
    {
      "cell_type": "code",
      "metadata": {
        "colab": {
          "base_uri": "https://localhost:8080/"
        },
        "id": "UMPmjbJaNYI3",
        "outputId": "0624d386-5ab5-46e4-8b87-5a209f78777f"
      },
      "source": [
        "mae = mean_absolute_error(y_test, bagg_predict)\n",
        "print(\"MAE: %f\" % (mae))"
      ],
      "execution_count": 21,
      "outputs": [
        {
          "output_type": "stream",
          "text": [
            "MAE: 0.085038\n"
          ],
          "name": "stdout"
        }
      ]
    },
    {
      "cell_type": "code",
      "metadata": {
        "colab": {
          "base_uri": "https://localhost:8080/"
        },
        "id": "-1Fs0kk1OW6z",
        "outputId": "73d9f5fd-db78-48f1-d334-830c8b3d9e4b"
      },
      "source": [
        "mape = mean_absolute_percentage_error(y_test, bagg_predict)\n",
        "print(\"MAPE: %f\" % (mape))"
      ],
      "execution_count": 22,
      "outputs": [
        {
          "output_type": "stream",
          "text": [
            "MAPE: 0.159528\n"
          ],
          "name": "stdout"
        }
      ]
    },
    {
      "cell_type": "code",
      "metadata": {
        "colab": {
          "base_uri": "https://localhost:8080/"
        },
        "id": "p7NmJeMHE2wN",
        "outputId": "8da8fced-a1d8-4d2e-fbd9-942105e1a1bb"
      },
      "source": [
        "bagg_score_train = bagg_reg.score(X_train, y_train)\n",
        "print(bagg_score_train)"
      ],
      "execution_count": 23,
      "outputs": [
        {
          "output_type": "stream",
          "text": [
            "0.9315338297779538\n"
          ],
          "name": "stdout"
        }
      ]
    },
    {
      "cell_type": "code",
      "metadata": {
        "colab": {
          "base_uri": "https://localhost:8080/"
        },
        "id": "kHYFZAZ5GjIM",
        "outputId": "6277b91e-6f95-42d8-f18c-dcc0861f6388"
      },
      "source": [
        "bagg_score_test = bagg_reg.score(X_test, y_test)\n",
        "print(bagg_score_test)"
      ],
      "execution_count": 24,
      "outputs": [
        {
          "output_type": "stream",
          "text": [
            "0.41840111957504944\n"
          ],
          "name": "stdout"
        }
      ]
    },
    {
      "cell_type": "markdown",
      "metadata": {
        "id": "Z50RtnyxakKm"
      },
      "source": [
        "El entrenamiento no esta presenta sobreajuste (overfitting) y el puntaje con datos de validación son bajos."
      ]
    },
    {
      "cell_type": "markdown",
      "metadata": {
        "id": "pnKFkmRz1BeZ"
      },
      "source": [
        "Trace la desviación del entrenamiento. Visualizaremos los resultados. Para hacer eso, primero calcularemos la desviación del conjunto de prueba y luego la graficaremos contra las iteraciones de impulso."
      ]
    },
    {
      "cell_type": "code",
      "metadata": {
        "colab": {
          "base_uri": "https://localhost:8080/",
          "height": 592
        },
        "id": "4q7D5e-wOcEl",
        "outputId": "6b15fff2-3c8b-4538-f2a7-5470f0aae215"
      },
      "source": [
        "x_ax = range(len(y_test))\n",
        "plt.figure(figsize=(24,10))\n",
        "#plt.scatter(x_ax, y_test, s=5, color=\"blue\", label=\"original\")\n",
        "plt.plot(x_ax, y_test, lw=0.8, color=\"blue\", label=\"original\")\n",
        "plt.plot(x_ax, bagg_predict, lw=0.8, color=\"red\", label=\"predicted\")\n",
        "plt.legend()\n",
        "plt.show()"
      ],
      "execution_count": 25,
      "outputs": [
        {
          "output_type": "display_data",
          "data": {
            "image/png": "[encoded data removed]",
            "text/plain": [
              "<Figure size 1728x720 with 1 Axes>"
            ]
          },
          "metadata": {
            "tags": [],
            "needs_background": "light"
          }
        }
      ]
    },
    {
      "cell_type": "markdown",
      "metadata": {
        "id": "LFuhIF7gcyy_"
      },
      "source": [
        "#GridSearchCV.\n",
        "Es una clase contenedora proporcionada por sklearn que recorre todos los parámetros proporcionados como parámetro params_grid con una serie de pliegues de validación cruzada proporcionados como parámetro cv, evalúa el rendimiento del modelo en todas las combinaciones y almacena todos los resultados en el atributo cv_results_. También almacena el modelo que se desempeña mejor en todos los pliegues de validación cruzada en el atributo best_estimator_ y la mejor puntuación en el atributo best_score_.\n",
        "\n",
        "El parámetro n_jobs lo proporcionan muchos estimadores. Acepta el número de núcleos que se utilizarán para la paralelización. Si se da el valor de -1, entonces usa todos los núcleos. Utiliza la biblioteca de procesamiento paralelo joblib para ejecutar cosas en paralelo en segundo plano.\n",
        "\n",
        "Probaremos varios valores para los hiperparámetros mencionados anteriormente para encontrar el mejor estimador para nuestro conjunto de datos haciendo una validación cruzada.\n",
        "\n",
        "Fuente: Science Kit, scikit-learn, Machine Learning in Python\n",
        "\n",
        "https://scikit-learn.org/stable/modules/generated/sklearn.model_selection.GridSearchCV.html"
      ]
    },
    {
      "cell_type": "code",
      "metadata": {
        "colab": {
          "base_uri": "https://localhost:8080/"
        },
        "id": "HSDE4-lN8PZP",
        "outputId": "b6ddeffa-503f-452d-9769-24eae7e04342"
      },
      "source": [
        "# Verificar datos de entrenamiento\n",
        "print(X_train.shape[0])\n",
        "print(X_train.shape[1])"
      ],
      "execution_count": 26,
      "outputs": [
        {
          "output_type": "stream",
          "text": [
            "1077\n",
            "14\n"
          ],
          "name": "stdout"
        }
      ]
    },
    {
      "cell_type": "code",
      "metadata": {
        "colab": {
          "base_uri": "https://localhost:8080/"
        },
        "id": "1VtbREsL7LKg",
        "outputId": "79144d15-f6f0-468c-8d51-7c02b7df9073"
      },
      "source": [
        "# Establecer parámetros a probar\n",
        "# Si es None, entonces el estimador base es un DecisionTreeRegressor.\n",
        "%%time\n",
        "\n",
        "#n_samples = X_train.shape[0]\n",
        "#n_features = X_train.shape[0]\n",
        "\n",
        "params = {'base_estimator': [None, LinearRegression(), LogisticRegression(), KNeighborsRegressor(), SVR()],\n",
        "          'n_estimators': [25,50,100,150],\n",
        "          #'max_samples': [0.5,1.0, n_samples//2,],\n",
        "          #'max_features': [0.5,1.0, n_features//2,],\n",
        "          'max_samples': [0.25,0.5,1.0],\n",
        "          'max_features': [0.25,0.5,1.0],\n",
        "          'bootstrap': [True, False],\n",
        "          'bootstrap_features': [True, False]}\n",
        "\n"
      ],
      "execution_count": 27,
      "outputs": [
        {
          "output_type": "stream",
          "text": [
            "CPU times: user 61 µs, sys: 12 µs, total: 73 µs\n",
            "Wall time: 75.3 µs\n"
          ],
          "name": "stdout"
        }
      ]
    },
    {
      "cell_type": "code",
      "metadata": {
        "colab": {
          "base_uri": "https://localhost:8080/"
        },
        "id": "YSI2I2wL9wVv",
        "outputId": "e6e41665-c4d8-4d34-b689-0ed0661971ac"
      },
      "source": [
        "bagging_regressor_grid = GridSearchCV(BaggingRegressor(random_state=123, n_jobs=-1), param_grid =params, cv=5, n_jobs=-1, verbose=1)\n",
        "bagging_regressor_grid.fit(X_train, y_train)\n",
        "\n"
      ],
      "execution_count": 28,
      "outputs": [
        {
          "output_type": "stream",
          "text": [
            "Fitting 5 folds for each of 720 candidates, totalling 3600 fits\n"
          ],
          "name": "stdout"
        },
        {
          "output_type": "stream",
          "text": [
            "/content/scikit-learn/sklearn/model_selection/_search.py:893: UserWarning: One or more of the test scores are non-finite: [ 2.78627086e-01  3.01662375e-01  3.14747684e-01  3.21710597e-01\n",
            "  3.19495714e-01  3.37342754e-01  3.40043641e-01  3.45477557e-01\n",
            "  3.34789049e-01  3.47699441e-01  3.49803344e-01  3.55523923e-01\n",
            "  3.61006451e-01  4.17204294e-01  4.37655561e-01  4.38237119e-01\n",
            "  4.06029199e-01  4.52400736e-01  4.65350211e-01  4.69472687e-01\n",
            "  4.31467204e-01  4.68232435e-01  4.85171758e-01  4.89768386e-01\n",
            "  4.52675394e-01  4.75418345e-01  4.84310887e-01  4.81635206e-01\n",
            "  4.77287042e-01  4.96706122e-01  5.07695244e-01  5.08656454e-01\n",
            "  4.98247327e-01  5.09390136e-01  5.19575401e-01  5.25745316e-01\n",
            "  3.08089790e-01  2.95395770e-01  3.21946688e-01  3.33487310e-01\n",
            "  3.22899885e-01  3.17970434e-01  3.42579080e-01  3.53195354e-01\n",
            "  3.49504290e-01  3.37451440e-01  3.58754928e-01  3.67374040e-01\n",
            "  4.63204208e-01  4.75808412e-01  4.71891150e-01  4.69487460e-01\n",
            "  4.91420178e-01  5.04823272e-01  4.99163015e-01  4.96101542e-01\n",
            "  5.06563457e-01  5.08797416e-01  5.05762372e-01  5.05171758e-01\n",
            "  4.64589905e-01  4.79950189e-01  4.89276454e-01  4.88976655e-01\n",
            "  4.85508552e-01  5.01162208e-01  5.07361862e-01  5.05527731e-01\n",
            "  4.89234664e-01  5.01569249e-01  5.07027114e-01  5.10065463e-01\n",
            "  2.88359296e-01  3.11135390e-01  3.27336827e-01  3.33100568e-01\n",
            "  3.35765572e-01  3.43753079e-01  3.51096709e-01  3.53576376e-01\n",
            "  3.50094164e-01  3.59569179e-01  3.61670392e-01  3.65766843e-01\n",
            "  4.01422976e-01  4.34327298e-01  4.50336881e-01  4.49882613e-01\n",
            "  4.40145930e-01  4.65698112e-01  4.82909595e-01  4.83618265e-01\n",
            "  4.64017089e-01  4.99344758e-01  5.07441652e-01  5.05632145e-01\n",
            "  4.71406837e-01  4.85849686e-01  4.88423842e-01  4.86927463e-01\n",
            "  4.87234375e-01  5.04811736e-01  5.12753402e-01  5.14388881e-01\n",
            "  4.85912213e-01  5.01530236e-01  5.02422204e-01  5.10781096e-01\n",
            "  3.12026681e-01  3.10646881e-01  3.35677802e-01  3.48178155e-01\n",
            "  3.43847641e-01  3.36291522e-01  3.52030134e-01  3.62449594e-01\n",
            "  3.56581039e-01  3.47215951e-01  3.64399418e-01  3.74098757e-01\n",
            "  4.77209339e-01  4.81714261e-01  4.86030237e-01  4.82618978e-01\n",
            "  5.03451012e-01  5.07979375e-01  5.09131574e-01  5.12321310e-01\n",
            "  5.19122136e-01  5.23515236e-01  5.18061536e-01  5.16802712e-01\n",
            "  4.66867714e-01  4.76014377e-01  4.88290074e-01  4.88604530e-01\n",
            "  4.83310835e-01  4.90145884e-01  4.98047209e-01  5.00532969e-01\n",
            "  1.02455062e-01  1.06387180e-01  1.07734149e-01  1.07733490e-01\n",
            " -6.58652591e-02  3.21876487e-02  7.33229528e-02  3.72379246e-02\n",
            "  1.89293873e-02  2.68304374e-02  8.20175909e-02  7.03087136e-02\n",
            "  6.01515025e-02  8.13896097e-02  1.02136204e-01  1.04122769e-01\n",
            " -2.36808311e+00 -6.96755493e-01 -5.14408152e+06 -3.29464918e+06\n",
            " -1.19239225e+00 -3.26780577e-01 -3.40531841e+04 -1.51380963e+04\n",
            "  6.76634867e-02  1.39342066e-01  1.78974903e-01  1.73237859e-01\n",
            " -4.44445310e-01 -4.32804549e-01 -1.82309064e+06 -3.00165333e+06\n",
            " -7.90265170e-01 -7.84275100e-01 -1.76534377e+04 -7.84524221e+03\n",
            "  1.54016165e-01  1.82835048e-01  2.21923744e-01  2.24927210e-01\n",
            "  8.69086818e-02  5.13754763e-02 -1.36091991e-02  2.35545213e-02\n",
            "  9.20707946e-02  8.50973073e-02  8.54490306e-02  9.49556503e-02\n",
            "  9.32862756e-02  8.90342029e-02  8.81114832e-02  1.05236213e-01\n",
            " -3.74568296e-01 -3.71269383e-01 -3.89684565e-01 -2.31989769e-01\n",
            "  1.54964161e-01  1.49680987e-01  1.71232406e-02  7.21743151e-02\n",
            "  1.84291222e-01  1.89587987e-01  1.70932949e-01  1.81349572e-01\n",
            " -6.05253764e-01 -7.87098177e-01 -1.16690870e+00 -1.38224435e+00\n",
            " -3.76642213e-01  2.00374220e-01  1.51460498e-01  3.86409952e-02\n",
            "  9.26757415e-02  2.03054606e-01  2.06522174e-01  2.28249532e-01\n",
            "  3.09303780e-02  7.99859418e-02  8.07955694e-02  6.54985385e-02\n",
            "  4.58661659e-02  8.68215293e-02  1.04851766e-01  9.51586304e-02\n",
            "  8.40706051e-02  9.09831802e-02  1.01890360e-01  1.02131453e-01\n",
            " -2.13539911e-01  1.06403994e-02 -1.51089932e-02 -1.20403646e-02\n",
            " -6.92681251e-02  1.04071321e-01  1.07680508e-01  1.12510493e-01\n",
            "  1.56530569e-01  1.70544939e-01  1.81198454e-01  1.73340367e-01\n",
            " -5.02991413e+12 -1.25748007e+12 -3.14369934e+11 -1.39723360e+11\n",
            "  6.41279409e-02  1.05441360e-01  1.43807603e-01  1.49706733e-01\n",
            "  2.36808307e-01  2.30654718e-01  2.33322280e-01  2.28594599e-01\n",
            "  5.81069936e-02  2.21237168e-02 -1.28951108e-02  1.79764859e-02\n",
            "  9.61172555e-02  7.79601318e-02  8.06238992e-02  8.77742593e-02\n",
            "  9.54184015e-02  8.73323408e-02  9.09930659e-02  1.06379024e-01\n",
            " -3.23343124e-01 -2.71809543e-02 -1.20557287e-01 -4.37587625e-02\n",
            "  1.59451349e-01  1.61516157e-01  1.25248332e-01  1.28040352e-01\n",
            "  1.90923683e-01  1.94241655e-01  1.89502968e-01  1.96060260e-01\n",
            " -7.97830915e-01 -2.70283418e+00 -5.22160342e-01 -4.16644160e-01\n",
            "  1.31193492e-01 -3.40701813e-02  5.92391881e-02  7.50107783e-02\n",
            "  2.61634988e-01  2.61634988e-01  2.61634988e-01  2.61634988e-01\n",
            "             nan             nan             nan             nan\n",
            "             nan             nan             nan             nan\n",
            "             nan             nan             nan             nan\n",
            "             nan             nan             nan             nan\n",
            "             nan             nan             nan             nan\n",
            "             nan             nan             nan             nan\n",
            "             nan             nan             nan             nan\n",
            "             nan             nan             nan             nan\n",
            "             nan             nan             nan             nan\n",
            "             nan             nan             nan             nan\n",
            "             nan             nan             nan             nan\n",
            "             nan             nan             nan             nan\n",
            "             nan             nan             nan             nan\n",
            "             nan             nan             nan             nan\n",
            "             nan             nan             nan             nan\n",
            "             nan             nan             nan             nan\n",
            "             nan             nan             nan             nan\n",
            "             nan             nan             nan             nan\n",
            "             nan             nan             nan             nan\n",
            "             nan             nan             nan             nan\n",
            "             nan             nan             nan             nan\n",
            "             nan             nan             nan             nan\n",
            "             nan             nan             nan             nan\n",
            "             nan             nan             nan             nan\n",
            "             nan             nan             nan             nan\n",
            "             nan             nan             nan             nan\n",
            "             nan             nan             nan             nan\n",
            "             nan             nan             nan             nan\n",
            "             nan             nan             nan             nan\n",
            "             nan             nan             nan             nan\n",
            "             nan             nan             nan             nan\n",
            "             nan             nan             nan             nan\n",
            "             nan             nan             nan             nan\n",
            "             nan             nan             nan             nan\n",
            "             nan             nan             nan             nan\n",
            "             nan             nan             nan             nan\n",
            "  1.71216894e-01  2.05481976e-01  2.05574914e-01  2.15979434e-01\n",
            "  2.17407181e-01  2.43200972e-01  2.43122619e-01  2.52983100e-01\n",
            "  2.42824891e-01  2.64978355e-01  2.72129259e-01  2.79980992e-01\n",
            "  1.50566630e-01  2.01978842e-01  2.05392558e-01  2.20941296e-01\n",
            "  1.95299595e-01  2.49578098e-01  2.51383488e-01  2.66882149e-01\n",
            "  2.24135050e-01  2.80772413e-01  2.85948998e-01  2.99964883e-01\n",
            "  1.83969663e-01  2.11981287e-01  1.97571642e-01  1.99034196e-01\n",
            "  2.36882789e-01  2.56347914e-01  2.42252617e-01  2.44530770e-01\n",
            "  2.69450844e-01  2.93434173e-01  2.75768464e-01  2.77366040e-01\n",
            "  2.10576457e-01  2.00402758e-01  2.21991625e-01  2.30566709e-01\n",
            "  2.51597424e-01  2.39244392e-01  2.61099863e-01  2.72053976e-01\n",
            "  2.76538886e-01  2.64925162e-01  2.88711498e-01  2.99737642e-01\n",
            "  2.70817032e-01  2.52148081e-01  2.63813628e-01  2.57911515e-01\n",
            "  3.17710660e-01  2.99231426e-01  3.12247525e-01  3.08148472e-01\n",
            "  3.54783245e-01  3.36535723e-01  3.49212900e-01  3.45854077e-01\n",
            "  9.63004456e-02  9.98668763e-02  1.02493130e-01  1.01403591e-01\n",
            "  1.18751503e-01  1.16812873e-01  1.19719106e-01  1.19462369e-01\n",
            "  9.74377915e-02  9.42493751e-02  1.02355362e-01  1.02433293e-01\n",
            "  1.74412042e-01  2.06970324e-01  2.10610742e-01  2.17410956e-01\n",
            "  2.24667369e-01  2.47627503e-01  2.51798942e-01  2.59600670e-01\n",
            "  2.49682539e-01  2.65929726e-01  2.73130164e-01  2.81839049e-01\n",
            "  1.52089267e-01  2.09117221e-01  2.11342565e-01  2.23284468e-01\n",
            "  1.99107396e-01  2.54396703e-01  2.56922543e-01  2.71318572e-01\n",
            "  2.24119111e-01  2.86331095e-01  2.90400312e-01  3.04865342e-01\n",
            "  2.07464973e-01  2.22318779e-01  2.02577145e-01  2.03421670e-01\n",
            "  2.43609930e-01  2.61719286e-01  2.43317302e-01  2.44865635e-01\n",
            "  2.75218940e-01  2.95800514e-01  2.76473507e-01  2.77034755e-01\n",
            "  2.24193696e-01  2.10120239e-01  2.26413912e-01  2.38408921e-01\n",
            "  2.69854273e-01  2.53660637e-01  2.69068198e-01  2.79417905e-01\n",
            "  2.78788105e-01  2.71417895e-01  2.89578717e-01  3.00512066e-01\n",
            "  2.89367996e-01  2.59482256e-01  2.69036584e-01  2.64013462e-01\n",
            "  3.35993890e-01  3.03965831e-01  3.15237590e-01  3.13968459e-01\n",
            "  3.63556364e-01  3.40441493e-01  3.49698849e-01  3.47644375e-01\n",
            "  1.02263675e-01  1.05000943e-01  1.03707235e-01  1.06287878e-01\n",
            "  1.08845548e-01  1.08624917e-01  1.09390786e-01  1.12318029e-01\n",
            "  6.69477187e-02  6.69477187e-02  6.69477187e-02  6.69477187e-02\n",
            "  7.36916845e-02  8.42793404e-02  8.14124225e-02  8.96420647e-02\n",
            "  8.54589407e-02  1.01311813e-01  9.86965432e-02  1.09182813e-01\n",
            "  9.25167234e-02  1.13271851e-01  1.12688335e-01  1.23114112e-01\n",
            "  5.19297166e-02  7.28460722e-02  7.42460959e-02  8.56352705e-02\n",
            "  5.84783255e-02  8.58202828e-02  8.75760714e-02  9.87213463e-02\n",
            "  6.74620045e-02  1.03198567e-01  1.02313978e-01  1.12052828e-01\n",
            "  6.47864926e-02  7.05199564e-02  5.81245990e-02  5.60709089e-02\n",
            "  7.53566249e-02  8.22249354e-02  6.86054952e-02  6.57580921e-02\n",
            "  8.92448857e-02  9.88984448e-02  8.24500831e-02  7.88563102e-02\n",
            "  1.00507223e-01  8.17452472e-02  9.72234329e-02  1.00445989e-01\n",
            "  1.19084579e-01  9.92058955e-02  1.14628546e-01  1.19780054e-01\n",
            "  1.34105438e-01  1.13136499e-01  1.29435928e-01  1.35044294e-01\n",
            "  1.11930615e-01  9.93503994e-02  1.05807994e-01  1.03479608e-01\n",
            "  1.28540643e-01  1.14575837e-01  1.22607702e-01  1.20342197e-01\n",
            "  1.47593904e-01  1.31905376e-01  1.40193596e-01  1.37224651e-01\n",
            "  1.15842193e-02  1.11354487e-02  1.38535401e-02  1.36901331e-02\n",
            "  2.08467532e-02  1.98763856e-02  2.09103549e-02  2.09647611e-02\n",
            "  3.49236383e-02  3.38426222e-02  3.39953130e-02  3.34968310e-02\n",
            "  7.24706582e-02  8.64008821e-02  8.60057101e-02  9.32079738e-02\n",
            "  8.47861081e-02  1.02600565e-01  1.00734847e-01  1.08222750e-01\n",
            "  9.32989646e-02  1.14051863e-01  1.11990273e-01  1.22066644e-01\n",
            "  4.92008441e-02  7.47075221e-02  7.60689116e-02  8.55576103e-02\n",
            "  5.77926825e-02  8.78848647e-02  8.84881937e-02  9.86429282e-02\n",
            "  6.61566884e-02  1.02794592e-01  1.01360347e-01  1.11608379e-01\n",
            "  6.40741394e-02  7.23614464e-02  5.76940506e-02  5.59921479e-02\n",
            "  7.23468708e-02  8.34505167e-02  6.85081265e-02  6.60980668e-02\n",
            "  8.74679392e-02  9.84743955e-02  8.26248941e-02  7.95351315e-02\n",
            "  1.08424084e-01  8.60702605e-02  9.99198805e-02  1.01928729e-01\n",
            "  1.27223813e-01  1.02106747e-01  1.16369744e-01  1.19778790e-01\n",
            "  1.37490556e-01  1.14135131e-01  1.29318985e-01  1.35615024e-01\n",
            "  1.15825489e-01  1.02248142e-01  1.08737062e-01  1.05482286e-01\n",
            "  1.33195878e-01  1.15985947e-01  1.25093197e-01  1.21151498e-01\n",
            "  1.49559429e-01  1.33551412e-01  1.41527408e-01  1.38363448e-01\n",
            "  1.49731183e-02  1.41121066e-02  1.40603218e-02  1.47465893e-02\n",
            "  2.07422726e-02  2.02600637e-02  2.13326264e-02  2.13415570e-02\n",
            "  3.43197511e-02  3.43197511e-02  3.43197511e-02  3.43197511e-02]\n",
            "  category=UserWarning,\n"
          ],
          "name": "stderr"
        },
        {
          "output_type": "execute_result",
          "data": {
            "text/plain": [
              "GridSearchCV(cv=5, estimator=BaggingRegressor(n_jobs=-1, random_state=123),\n",
              "             n_jobs=-1,\n",
              "             param_grid={'base_estimator': [None, LinearRegression(),\n",
              "                                            LogisticRegression(),\n",
              "                                            KNeighborsRegressor(), SVR()],\n",
              "                         'bootstrap': [True, False],\n",
              "                         'bootstrap_features': [True, False],\n",
              "                         'max_features': [0.25, 0.5, 1.0],\n",
              "                         'max_samples': [0.25, 0.5, 1.0],\n",
              "                         'n_estimators': [25, 50, 100, 150]},\n",
              "             verbose=1)"
            ]
          },
          "metadata": {
            "tags": []
          },
          "execution_count": 28
        }
      ]
    },
    {
      "cell_type": "code",
      "metadata": {
        "colab": {
          "base_uri": "https://localhost:8080/"
        },
        "id": "is0QS1-p9xR2",
        "outputId": "637ee9ac-b8a3-4e1a-e5e3-27258d81f2ee"
      },
      "source": [
        "# Se muestran los mejores puntajes y mejor modelo \n",
        "print('Train R^2 Score : %.3f'%bagging_regressor_grid.best_estimator_.score(X_train, y_train))\n",
        "print('Test R^2 Score : %.3f'%bagging_regressor_grid.best_estimator_.score(X_test, y_test))\n",
        "print('Best R^2 Score Through Grid Search : %.3f'%bagging_regressor_grid.best_score_)\n",
        "print('Best Parameters : ',bagging_regressor_grid.best_params_)"
      ],
      "execution_count": 29,
      "outputs": [
        {
          "output_type": "stream",
          "text": [
            "Train R^2 Score : 0.916\n",
            "Test R^2 Score : 0.419\n",
            "Best R^2 Score Through Grid Search : 0.526\n",
            "Best Parameters :  {'base_estimator': None, 'bootstrap': True, 'bootstrap_features': True, 'max_features': 1.0, 'max_samples': 1.0, 'n_estimators': 150}\n"
          ],
          "name": "stdout"
        }
      ]
    },
    {
      "cell_type": "markdown",
      "metadata": {
        "id": "XCJBj041ekF8"
      },
      "source": [
        "Impresión de los primeros resultados de validación cruzada. GridSearchCV mantiene los resultados de todas las combinaciones de parámetros probadas con todas las divisiones de validación cruzada. Podemos acceder a los resultados de todas las iteraciones como un diccionario llamando al atributo cv_results_ en él."
      ]
    },
    {
      "cell_type": "code",
      "metadata": {
        "colab": {
          "base_uri": "https://localhost:8080/",
          "height": 408
        },
        "id": "9B9Yvp0AAGot",
        "outputId": "c6601260-b37c-46de-f67f-485543c1d01c"
      },
      "source": [
        "cross_val_results = pd.DataFrame(bagging_regressor_grid.cv_results_)\n",
        "print('Number of Various Combinations of Parameters Tried : %d'%len(cross_val_results))\n",
        "\n",
        "cross_val_results.head() ## Imprimir primeros resultados de la tabla de validación cruzada."
      ],
      "execution_count": 30,
      "outputs": [
        {
          "output_type": "stream",
          "text": [
            "Number of Various Combinations of Parameters Tried : 720\n"
          ],
          "name": "stdout"
        },
        {
          "output_type": "execute_result",
          "data": {
            "text/html": [
              "<div>\n",
              "<style scoped>\n",
              "    .dataframe tbody tr th:only-of-type {\n",
              "        vertical-align: middle;\n",
              "    }\n",
              "\n",
              "    .dataframe tbody tr th {\n",
              "        vertical-align: top;\n",
              "    }\n",
              "\n",
              "    .dataframe thead th {\n",
              "        text-align: right;\n",
              "    }\n",
              "</style>\n",
              "<table border=\"1\" class=\"dataframe\">\n",
              "  <thead>\n",
              "    <tr style=\"text-align: right;\">\n",
              "      <th></th>\n",
              "      <th>mean_fit_time</th>\n",
              "      <th>std_fit_time</th>\n",
              "      <th>mean_score_time</th>\n",
              "      <th>std_score_time</th>\n",
              "      <th>param_base_estimator</th>\n",
              "      <th>param_bootstrap</th>\n",
              "      <th>param_bootstrap_features</th>\n",
              "      <th>param_max_features</th>\n",
              "      <th>param_max_samples</th>\n",
              "      <th>param_n_estimators</th>\n",
              "      <th>params</th>\n",
              "      <th>split0_test_score</th>\n",
              "      <th>split1_test_score</th>\n",
              "      <th>split2_test_score</th>\n",
              "      <th>split3_test_score</th>\n",
              "      <th>split4_test_score</th>\n",
              "      <th>mean_test_score</th>\n",
              "      <th>std_test_score</th>\n",
              "      <th>rank_test_score</th>\n",
              "    </tr>\n",
              "  </thead>\n",
              "  <tbody>\n",
              "    <tr>\n",
              "      <th>0</th>\n",
              "      <td>0.106959</td>\n",
              "      <td>0.001767</td>\n",
              "      <td>0.106500</td>\n",
              "      <td>0.002049</td>\n",
              "      <td>None</td>\n",
              "      <td>True</td>\n",
              "      <td>True</td>\n",
              "      <td>0.25</td>\n",
              "      <td>0.25</td>\n",
              "      <td>25</td>\n",
              "      <td>{'base_estimator': None, 'bootstrap': True, 'b...</td>\n",
              "      <td>0.296747</td>\n",
              "      <td>0.227759</td>\n",
              "      <td>0.307943</td>\n",
              "      <td>0.283619</td>\n",
              "      <td>0.277067</td>\n",
              "      <td>0.278627</td>\n",
              "      <td>0.027578</td>\n",
              "      <td>173</td>\n",
              "    </tr>\n",
              "    <tr>\n",
              "      <th>1</th>\n",
              "      <td>0.205426</td>\n",
              "      <td>0.000611</td>\n",
              "      <td>0.111039</td>\n",
              "      <td>0.008824</td>\n",
              "      <td>None</td>\n",
              "      <td>True</td>\n",
              "      <td>True</td>\n",
              "      <td>0.25</td>\n",
              "      <td>0.25</td>\n",
              "      <td>50</td>\n",
              "      <td>{'base_estimator': None, 'bootstrap': True, 'b...</td>\n",
              "      <td>0.316068</td>\n",
              "      <td>0.264269</td>\n",
              "      <td>0.333892</td>\n",
              "      <td>0.301455</td>\n",
              "      <td>0.292628</td>\n",
              "      <td>0.301662</td>\n",
              "      <td>0.023351</td>\n",
              "      <td>153</td>\n",
              "    </tr>\n",
              "    <tr>\n",
              "      <th>2</th>\n",
              "      <td>0.311780</td>\n",
              "      <td>0.002218</td>\n",
              "      <td>0.105910</td>\n",
              "      <td>0.002391</td>\n",
              "      <td>None</td>\n",
              "      <td>True</td>\n",
              "      <td>True</td>\n",
              "      <td>0.25</td>\n",
              "      <td>0.25</td>\n",
              "      <td>100</td>\n",
              "      <td>{'base_estimator': None, 'bootstrap': True, 'b...</td>\n",
              "      <td>0.313655</td>\n",
              "      <td>0.285561</td>\n",
              "      <td>0.357650</td>\n",
              "      <td>0.310545</td>\n",
              "      <td>0.306328</td>\n",
              "      <td>0.314748</td>\n",
              "      <td>0.023589</td>\n",
              "      <td>143</td>\n",
              "    </tr>\n",
              "    <tr>\n",
              "      <th>3</th>\n",
              "      <td>0.454620</td>\n",
              "      <td>0.049502</td>\n",
              "      <td>0.106922</td>\n",
              "      <td>0.003087</td>\n",
              "      <td>None</td>\n",
              "      <td>True</td>\n",
              "      <td>True</td>\n",
              "      <td>0.25</td>\n",
              "      <td>0.25</td>\n",
              "      <td>150</td>\n",
              "      <td>{'base_estimator': None, 'bootstrap': True, 'b...</td>\n",
              "      <td>0.322497</td>\n",
              "      <td>0.297484</td>\n",
              "      <td>0.361115</td>\n",
              "      <td>0.320575</td>\n",
              "      <td>0.306882</td>\n",
              "      <td>0.321711</td>\n",
              "      <td>0.021732</td>\n",
              "      <td>138</td>\n",
              "    </tr>\n",
              "    <tr>\n",
              "      <th>4</th>\n",
              "      <td>0.106727</td>\n",
              "      <td>0.000628</td>\n",
              "      <td>0.106280</td>\n",
              "      <td>0.002509</td>\n",
              "      <td>None</td>\n",
              "      <td>True</td>\n",
              "      <td>True</td>\n",
              "      <td>0.25</td>\n",
              "      <td>0.5</td>\n",
              "      <td>25</td>\n",
              "      <td>{'base_estimator': None, 'bootstrap': True, 'b...</td>\n",
              "      <td>0.334648</td>\n",
              "      <td>0.263621</td>\n",
              "      <td>0.342097</td>\n",
              "      <td>0.313104</td>\n",
              "      <td>0.344008</td>\n",
              "      <td>0.319496</td>\n",
              "      <td>0.030014</td>\n",
              "      <td>139</td>\n",
              "    </tr>\n",
              "  </tbody>\n",
              "</table>\n",
              "</div>"
            ],
            "text/plain": [
              "   mean_fit_time  std_fit_time  ...  std_test_score  rank_test_score\n",
              "0       0.106959      0.001767  ...        0.027578              173\n",
              "1       0.205426      0.000611  ...        0.023351              153\n",
              "2       0.311780      0.002218  ...        0.023589              143\n",
              "3       0.454620      0.049502  ...        0.021732              138\n",
              "4       0.106727      0.000628  ...        0.030014              139\n",
              "\n",
              "[5 rows x 19 columns]"
            ]
          },
          "metadata": {
            "tags": []
          },
          "execution_count": 30
        }
      ]
    },
    {
      "cell_type": "markdown",
      "metadata": {
        "id": "yA-OwzPxdx2M"
      },
      "source": [
        "# Evaluación del mejor modelo "
      ]
    },
    {
      "cell_type": "code",
      "metadata": {
        "id": "1cMKEoGOfJeu"
      },
      "source": [
        "# Predecir usando datos de prueba \n",
        "bagging_regressor_grid_predict_train = bagging_regressor_grid.predict(X_train)\n",
        "bagging_regressor_grid_predict = bagging_regressor_grid.predict(X_test)"
      ],
      "execution_count": 31,
      "outputs": []
    },
    {
      "cell_type": "markdown",
      "metadata": {
        "id": "YE08JJuzh-LB"
      },
      "source": [
        "Veamos también el error cuadrático medio en los datos de prueba, la raíz del error cuadrático medio en los datos de prueba y el puntaje (score) de entrenamiento y pruebas."
      ]
    },
    {
      "cell_type": "code",
      "metadata": {
        "colab": {
          "base_uri": "https://localhost:8080/"
        },
        "id": "NmQSTOC9LGvJ",
        "outputId": "6e570320-851a-46ad-eaec-d85752dd5c96"
      },
      "source": [
        "mse = mean_squared_error(y_train, bagging_regressor_grid_predict_train)\n",
        "print(\"The mean squared error (MSE) on train set: {:.4f}\".format(mse))"
      ],
      "execution_count": 32,
      "outputs": [
        {
          "output_type": "stream",
          "text": [
            "The mean squared error (MSE) on test set: 0.0025\n"
          ],
          "name": "stdout"
        }
      ]
    },
    {
      "cell_type": "code",
      "metadata": {
        "colab": {
          "base_uri": "https://localhost:8080/"
        },
        "id": "-rb5m-BLLJWv",
        "outputId": "763a5c5d-6141-46e3-9d29-93a9f139dea4"
      },
      "source": [
        "rmse = np.sqrt(mean_squared_error(y_train, bagging_regressor_grid_predict_train))\n",
        "print(\"RMSE: %f\" % (rmse))"
      ],
      "execution_count": 33,
      "outputs": [
        {
          "output_type": "stream",
          "text": [
            "RMSE: 0.050172\n"
          ],
          "name": "stdout"
        }
      ]
    },
    {
      "cell_type": "code",
      "metadata": {
        "colab": {
          "base_uri": "https://localhost:8080/"
        },
        "id": "FoOUL4AtLLRj",
        "outputId": "ec0fbe8f-645f-4dfb-aca2-f572c6007226"
      },
      "source": [
        "mae = mean_absolute_error(y_train, bagging_regressor_grid_predict_train)\n",
        "print(\"MAE: %f\" % (mae))"
      ],
      "execution_count": 34,
      "outputs": [
        {
          "output_type": "stream",
          "text": [
            "MAE: 0.031555\n"
          ],
          "name": "stdout"
        }
      ]
    },
    {
      "cell_type": "code",
      "metadata": {
        "colab": {
          "base_uri": "https://localhost:8080/"
        },
        "id": "g_VvpJZlLPzj",
        "outputId": "2ced12b7-8193-42df-d2e0-1735f12d2560"
      },
      "source": [
        "mape = mean_absolute_percentage_error(y_train, bagging_regressor_grid_predict_train)\n",
        "print(\"MAPE: %f\" % (mape))"
      ],
      "execution_count": 35,
      "outputs": [
        {
          "output_type": "stream",
          "text": [
            "MAPE: 0.057201\n"
          ],
          "name": "stdout"
        }
      ]
    },
    {
      "cell_type": "code",
      "metadata": {
        "id": "oIB-FzZthV5L",
        "colab": {
          "base_uri": "https://localhost:8080/"
        },
        "outputId": "df66ba9a-44b3-433d-e46c-f4eb263f2ce8"
      },
      "source": [
        "reg_score_train = bagging_regressor_grid.score(X_train, y_train)\n",
        "print(reg_score_train)"
      ],
      "execution_count": 36,
      "outputs": [
        {
          "output_type": "stream",
          "text": [
            "0.9164237643694209\n"
          ],
          "name": "stdout"
        }
      ]
    },
    {
      "cell_type": "code",
      "metadata": {
        "colab": {
          "base_uri": "https://localhost:8080/"
        },
        "id": "8dvlfh7phOst",
        "outputId": "a8d2ad4d-3a6e-4d0f-a9f1-6b61b6e58aaa"
      },
      "source": [
        "mse = mean_squared_error(y_test, bagging_regressor_grid_predict)\n",
        "print(\"The mean squared error (MSE) on test set: {:.4f}\".format(mse))"
      ],
      "execution_count": 37,
      "outputs": [
        {
          "output_type": "stream",
          "text": [
            "The mean squared error (MSE) on test set: 0.0192\n"
          ],
          "name": "stdout"
        }
      ]
    },
    {
      "cell_type": "code",
      "metadata": {
        "colab": {
          "base_uri": "https://localhost:8080/"
        },
        "id": "zJBByypthRWJ",
        "outputId": "dfa0b1ef-5d5f-474e-8d9a-ada01a57529a"
      },
      "source": [
        "rmse = np.sqrt(mean_squared_error(y_test, bagging_regressor_grid_predict))\n",
        "print(\"RMSE: %f\" % (rmse))"
      ],
      "execution_count": 38,
      "outputs": [
        {
          "output_type": "stream",
          "text": [
            "RMSE: 0.138567\n"
          ],
          "name": "stdout"
        }
      ]
    },
    {
      "cell_type": "code",
      "metadata": {
        "colab": {
          "base_uri": "https://localhost:8080/"
        },
        "id": "1FsAUCoRQ0H2",
        "outputId": "38a8d407-c885-4b86-fa37-6961f22ba5d2"
      },
      "source": [
        "mae = mean_absolute_error(y_test, bagging_regressor_grid_predict)\n",
        "print(\"MAE: %f\" % (mae))"
      ],
      "execution_count": 39,
      "outputs": [
        {
          "output_type": "stream",
          "text": [
            "MAE: 0.088306\n"
          ],
          "name": "stdout"
        }
      ]
    },
    {
      "cell_type": "code",
      "metadata": {
        "colab": {
          "base_uri": "https://localhost:8080/"
        },
        "id": "pZdjXuyYQ5Gk",
        "outputId": "f2825653-3f3a-442d-c1d6-e8210fb84572"
      },
      "source": [
        "mape = mean_absolute_percentage_error(y_test, bagging_regressor_grid_predict)\n",
        "print(\"MAPE: %f\" % (mape))"
      ],
      "execution_count": 40,
      "outputs": [
        {
          "output_type": "stream",
          "text": [
            "MAPE: 0.165778\n"
          ],
          "name": "stdout"
        }
      ]
    },
    {
      "cell_type": "code",
      "metadata": {
        "colab": {
          "base_uri": "https://localhost:8080/"
        },
        "id": "2YM1AyyKhZVV",
        "outputId": "67d53da2-d1b6-48b0-b080-bd1878a46132"
      },
      "source": [
        "reg_score_test = bagging_regressor_grid.score(X_test, y_test)\n",
        "print(reg_score_test)"
      ],
      "execution_count": 41,
      "outputs": [
        {
          "output_type": "stream",
          "text": [
            "0.41918322784829254\n"
          ],
          "name": "stdout"
        }
      ]
    },
    {
      "cell_type": "markdown",
      "metadata": {
        "id": "EUQKHNnXvQqe"
      },
      "source": [
        "El puntaje para datos de entrenamiento no presentan sobreajuste y para datos de prueba mejoró en el tercer decimal."
      ]
    },
    {
      "cell_type": "code",
      "metadata": {
        "colab": {
          "base_uri": "https://localhost:8080/",
          "height": 592
        },
        "id": "mYb_gZ9Hhpal",
        "outputId": "63436b42-8a7a-4858-d182-65bda870623c"
      },
      "source": [
        "x_ax = range(len(y_test))\n",
        "plt.figure(figsize=(24,10))\n",
        "#plt.scatter(x_ax, y_val, s=5, color=\"blue\", label=\"original\")\n",
        "plt.plot(x_ax, y_test, lw=0.8, color=\"blue\", label=\"original\")\n",
        "plt.plot(x_ax, bagging_regressor_grid_predict, lw=0.8, color=\"red\", label=\"predicted\")\n",
        "plt.legend()\n",
        "plt.show()"
      ],
      "execution_count": 42,
      "outputs": [
        {
          "output_type": "display_data",
          "data": {
            "image/png": "[encoded data removed]",
            "text/plain": [
              "<Figure size 1728x720 with 1 Axes>"
            ]
          },
          "metadata": {
            "tags": [],
            "needs_background": "light"
          }
        }
      ]
    }
  ]
}